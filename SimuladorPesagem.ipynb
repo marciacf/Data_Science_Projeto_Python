{
 "cells": [
  {
   "cell_type": "markdown",
   "id": "e846a03f",
   "metadata": {},
   "source": [
    "# Simulador de Pesagens\n",
    "\n",
    "Utilizamos dados referentes a balança dos caminhões de uma mineradora.\n",
    "\n",
    "Nosso alvo aqui é simular os valores médios da carga transportada buscando valores aleatórios em amostragens reduzidas.\n",
    "\n",
    "O banco de dados possui 882 registros de pesagens. A média está em 37,7 t e o desvio padrão em 3,5 t.\n",
    "\n",
    "O objetivo é provar ao cliente que a variabilidade da carga media transportada é similar quando se pesa um número menor de cargas."
   ]
  },
  {
   "cell_type": "code",
   "execution_count": 20,
   "id": "f6c474ec",
   "metadata": {},
   "outputs": [],
   "source": [
    "import pandas as pd\n",
    "import numpy as np\n",
    "import matplotlib.pyplot as plt\n",
    "from random import randint\n",
    "import statistics as est"
   ]
  },
  {
   "cell_type": "code",
   "execution_count": 21,
   "id": "451fc5a8-2771-42b4-86d7-c1b973ed1e61",
   "metadata": {},
   "outputs": [
    {
     "name": "stdout",
     "output_type": "stream",
     "text": [
      "Insira o número de réplicas que deseja:1\n",
      "Insira um % de pesagens:5\n",
      "Média e desvio padrão das 882 pesagens da 37.748990929705215 3.509741642449359\n",
      "1 médias de 5 % pesagens [37.20159090909091]\n",
      "37.20159090909091 0.0\n"
     ]
    }
   ],
   "source": [
    "n_medias =int(input(\"Insira o número de réplicas que deseja:\"))\n",
    "n_pesagemp =int(input(\"Insira um % de pesagens:\"))\n",
    "new_medias = []\n",
    "new_desv = []\n",
    "\n",
    "for ii in range(n_medias):   \n",
    "    \n",
    "    df = pd.read_excel(\"Dados_BalancaSimulador.xlsx\", sheet_name=\"882 amostras\",usecols=[7])\n",
    "   \n",
    "    # Média e desvio padrão das 882 pesagens:\n",
    "    mediatotal= np.mean(df.massa)\n",
    "    desvtotal= np.std(df.massa)\n",
    "    n = len(df)\n",
    "    print(\"Média e desvio padrão das\",n,\"pesagens da\",mediatotal, desvtotal)\n",
    "\n",
    "\n",
    "\n",
    "    n_pesagem = n_pesagemp/100*n\n",
    "    # print(\"calculo do valor do percentual\",n_pesagem)\n",
    "\n",
    "\n",
    "    nn = int(n_pesagem)\n",
    "    # print(\"número de pesagens utilizadas\",nn)\n",
    "\n",
    "    new_aleatorio = []\n",
    "    for i in range(nn):\n",
    "         n_aleatorio = randint(0,n-1)\n",
    "         new_aleatorio.append(n_aleatorio)\n",
    "\n",
    "    # print(\"indices das pesagens\",new_aleatorio)\n",
    "\n",
    "    ########################################################################\n",
    "\n",
    "    mediamenor= est.mean(df.massa[new_aleatorio])\n",
    "    desvmenor= np.std(df.massa[new_aleatorio])\n",
    "    #print(\"Média e desvio padrão das\",len(new_aleatorio),\"pesagens da\",mediamenor, desvmenor)\n",
    "    \n",
    "    new_medias.append(mediamenor)\n",
    "    new_desv.append(desvmenor)\n",
    "    \n",
    "print(n_medias, \"médias de\",n_pesagemp,\"% pesagens\", new_medias)\n",
    "media_medias = est.mean(new_medias)\n",
    "desv_media_medias = np.std(new_medias)\n",
    "print(media_medias, desv_media_medias)"
   ]
  },
  {
   "cell_type": "code",
   "execution_count": null,
   "id": "d4f92c66-8d68-4e03-9d9a-a2b920c27dc8",
   "metadata": {},
   "outputs": [],
   "source": []
  },
  {
   "cell_type": "code",
   "execution_count": null,
   "id": "205b44d8",
   "metadata": {},
   "outputs": [],
   "source": []
  }
 ],
 "metadata": {
  "kernelspec": {
   "display_name": "Python 3 (ipykernel)",
   "language": "python",
   "name": "python3"
  },
  "language_info": {
   "codemirror_mode": {
    "name": "ipython",
    "version": 3
   },
   "file_extension": ".py",
   "mimetype": "text/x-python",
   "name": "python",
   "nbconvert_exporter": "python",
   "pygments_lexer": "ipython3",
   "version": "3.9.12"
  }
 },
 "nbformat": 4,
 "nbformat_minor": 5
}
